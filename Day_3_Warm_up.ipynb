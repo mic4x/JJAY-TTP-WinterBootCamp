{
  "nbformat": 4,
  "nbformat_minor": 0,
  "metadata": {
    "colab": {
      "name": "Day 3 Warm up.ipynb",
      "provenance": [],
      "authorship_tag": "ABX9TyPZDCvWb5HRNWdUQjzAf4k1",
      "include_colab_link": true
    },
    "kernelspec": {
      "name": "python3",
      "display_name": "Python 3"
    },
    "language_info": {
      "name": "python"
    }
  },
  "cells": [
    {
      "cell_type": "markdown",
      "metadata": {
        "id": "view-in-github",
        "colab_type": "text"
      },
      "source": [
        "<a href=\"https://colab.research.google.com/github/mic4x/JJAY-TTP-WinterBootCamp/blob/main/Day_3_Warm_up.ipynb\" target=\"_parent\"><img src=\"https://colab.research.google.com/assets/colab-badge.svg\" alt=\"Open In Colab\"/></a>"
      ]
    },
    {
      "cell_type": "code",
      "execution_count": 13,
      "metadata": {
        "colab": {
          "base_uri": "https://localhost:8080/"
        },
        "id": "hk1YLyDaomKg",
        "outputId": "d9bbb419-83b4-4916-f32c-842f81fed955"
      },
      "outputs": [
        {
          "output_type": "execute_result",
          "data": {
            "text/plain": [
              "(1, 'two', 2, 5, 7)"
            ]
          },
          "metadata": {},
          "execution_count": 13
        }
      ],
      "source": [
        "#1\n",
        "b=2\n",
        "list= 1, 'two', b, 5, 7 ## This assigns the word list with 5 different integers \n",
        "list ## outputs the list"
      ]
    },
    {
      "cell_type": "code",
      "source": [
        "#2\n",
        "list2 = 2, 3, 4, 5, 7, 8, 9, 10, 11, 12 ## This assigns the word list with 10 different integers \n",
        "print(list2) ## This simply prints the integers in the list. "
      ],
      "metadata": {
        "colab": {
          "base_uri": "https://localhost:8080/"
        },
        "id": "kAyr7ICI77dp",
        "outputId": "b0f76bcf-ec06-4c2a-ce1a-d03a77490f39"
      },
      "execution_count": 8,
      "outputs": [
        {
          "output_type": "stream",
          "name": "stdout",
          "text": [
            "(2, 3, 4, 5, 7, 8, 9, 10, 11, 12)\n"
          ]
        }
      ]
    },
    {
      "cell_type": "code",
      "source": [
        "#2\n",
        "list2[9] #The list I created already held 10 values so I just used the index to output the final element. Indexing begins at 0 so 9 is the 10th element"
      ],
      "metadata": {
        "colab": {
          "base_uri": "https://localhost:8080/"
        },
        "id": "0oDZ_tQ7799T",
        "outputId": "1969f385-1024-41e0-e3cc-9ba12f401f25"
      },
      "execution_count": 33,
      "outputs": [
        {
          "output_type": "execute_result",
          "data": {
            "text/plain": [
              "12"
            ]
          },
          "metadata": {},
          "execution_count": 33
        }
      ]
    },
    {
      "cell_type": "code",
      "source": [
        "#3,4 and 5\n",
        "d = {7: 'Michael', 3:'John' , 12: 'Default', } ## A dictionary with 3 variables that have keys and associated values\n",
        "print (d.keys())\n",
        "print (d.values())\n",
        "print('Hello, how are you doing ' + d[7] ) ##Prints out the string and the concatenated dictionary value"
      ],
      "metadata": {
        "colab": {
          "base_uri": "https://localhost:8080/"
        },
        "id": "cu5JL7jg8JoR",
        "outputId": "901296f2-e897-4417-ffdb-28a3e66e286e"
      },
      "execution_count": 2,
      "outputs": [
        {
          "output_type": "stream",
          "name": "stdout",
          "text": [
            "dict_keys([7, 3, 12])\n",
            "dict_values(['Michael', 'John', 'Default'])\n",
            "Hello, how are you doing Michael\n"
          ]
        }
      ]
    },
    {
      "cell_type": "code",
      "source": [
        "## 6 and 7\n",
        "## It holds 3 instead of 2 \n",
        "d = {8: 'Good', 4:'Nice' , 12: 'Test', }\n",
        "print (d.keys())\n",
        "print (d.values()) #Same as the code above\n"
      ],
      "metadata": {
        "id": "MP8_-KOJ9Oux"
      },
      "execution_count": 28,
      "outputs": []
    },
    {
      "cell_type": "code",
      "source": [
        "#8 and 9\n",
        "dictionary = { 'First':{8:'Good', 4:'Nice', 12: 'Test'}, 'Second':{7: 'Michael', 3:'John' , 12: 'Default'}, 'Third':{14:'Sentence', 15:'does not' , 17: 'Default'} } ## Created 3 different dictionaries inside a dictoinoary called with the keys of First, Second and Third\n",
        "for x in dictionary: ## x in this dictionary temporary variable used to store the position of the iteration since loops\n",
        "  print('This is ' + x, dictionary[x]) ## concatenates This is the dictionary value x (which is iterated until completion)\n"
      ],
      "metadata": {
        "colab": {
          "base_uri": "https://localhost:8080/"
        },
        "id": "56i2pYCm-WPD",
        "outputId": "56d26fa2-87ec-442e-c7cf-634f9561fe38"
      },
      "execution_count": 10,
      "outputs": [
        {
          "output_type": "stream",
          "name": "stdout",
          "text": [
            "This is First {8: 'Good', 4: 'Nice', 12: 'Test'}\n",
            "This is Second {7: 'Michael', 3: 'John', 12: 'Default'}\n",
            "This is Third {14: 'Sentence', 15: 'does not', 17: 'Default'}\n"
          ]
        }
      ]
    },
    {
      "cell_type": "code",
      "source": [
        "#10\n",
        "\n"
      ],
      "metadata": {
        "colab": {
          "base_uri": "https://localhost:8080/",
          "height": 217
        },
        "id": "LovskCTpCGNw",
        "outputId": "12c3d434-3367-4c19-8ae2-a5a8c65b29a3"
      },
      "execution_count": 60,
      "outputs": [
        {
          "output_type": "error",
          "ename": "IndexError",
          "evalue": "ignored",
          "traceback": [
            "\u001b[0;31m---------------------------------------------------------------------------\u001b[0m",
            "\u001b[0;31mIndexError\u001b[0m                                Traceback (most recent call last)",
            "\u001b[0;32m<ipython-input-60-420b57fa0d19>\u001b[0m in \u001b[0;36m<module>\u001b[0;34m()\u001b[0m\n\u001b[1;32m      3\u001b[0m \u001b[0;34m\u001b[0m\u001b[0m\n\u001b[1;32m      4\u001b[0m \u001b[0;32mfor\u001b[0m \u001b[0mx\u001b[0m \u001b[0;32min\u001b[0m \u001b[0mchecklist\u001b[0m\u001b[0;34m:\u001b[0m\u001b[0;34m\u001b[0m\u001b[0;34m\u001b[0m\u001b[0m\n\u001b[0;32m----> 5\u001b[0;31m   \u001b[0mchecklist\u001b[0m\u001b[0;34m[\u001b[0m\u001b[0mx\u001b[0m\u001b[0;34m]\u001b[0m \u001b[0;34m==\u001b[0m \u001b[0mchecklist\u001b[0m\u001b[0;34m[\u001b[0m\u001b[0mx\u001b[0m\u001b[0;34m]\u001b[0m\u001b[0;34m\u001b[0m\u001b[0;34m\u001b[0m\u001b[0m\n\u001b[0m\u001b[1;32m      6\u001b[0m \u001b[0;34m\u001b[0m\u001b[0m\n",
            "\u001b[0;31mIndexError\u001b[0m: list index out of range"
          ]
        }
      ]
    },
    {
      "cell_type": "code",
      "source": [
        "##11\n",
        "import random ##uses the random library\n",
        " \n",
        "\n",
        "# to generate random number list\n",
        "res = [random.randrange(1, 500, 1) for i in range(5)] ## generates a list of 5 numbers between the values of 1 and 500\n",
        " \n",
        "# printing result\n",
        "print (\"Random number list is : \" +  str(res))\n",
        "\n"
      ],
      "metadata": {
        "colab": {
          "base_uri": "https://localhost:8080/"
        },
        "id": "3YrMiRmgG-kl",
        "outputId": "b7e91c21-135a-497d-e3a9-a32fc139d25d"
      },
      "execution_count": 56,
      "outputs": [
        {
          "output_type": "stream",
          "name": "stdout",
          "text": [
            "Random number list is : [214, 27, 458, 444, 81]\n"
          ]
        }
      ]
    },
    {
      "cell_type": "code",
      "source": [
        "## 12\n",
        "vowels = ['a', 'e', 'i','o', 'u']\n",
        "for q in range(5): ## goes through the loop 5 times for the first vowel \n",
        "\n",
        "  for i in range(5): ## goes through the loop 5 times for the second vowel \n",
        "\n",
        "    if vowels[q] == vowels[i]: ## if the vowels match output Vowel Combo\n",
        "      print('Vowels Combo')\n",
        "    elif vowels[q] != vowels[i]:\n",
        "      print(vowels[q]+ vowels[i]) ## prints the pairs of vowels"
      ],
      "metadata": {
        "colab": {
          "base_uri": "https://localhost:8080/"
        },
        "id": "3I4Kk-9yhBgs",
        "outputId": "2bb14ec2-b7e0-46db-8941-02c278df9109"
      },
      "execution_count": 88,
      "outputs": [
        {
          "output_type": "stream",
          "name": "stdout",
          "text": [
            "Vowels Combo\n",
            "ae\n",
            "ai\n",
            "ao\n",
            "au\n",
            "ea\n",
            "Vowels Combo\n",
            "ei\n",
            "eo\n",
            "eu\n",
            "ia\n",
            "ie\n",
            "Vowels Combo\n",
            "io\n",
            "iu\n",
            "oa\n",
            "oe\n",
            "oi\n",
            "Vowels Combo\n",
            "ou\n",
            "ua\n",
            "ue\n",
            "ui\n",
            "uo\n",
            "Vowels Combo\n"
          ]
        }
      ]
    },
    {
      "cell_type": "code",
      "source": [
        "  #14\n",
        "import random ##uses the random library\n",
        " \n",
        "\n",
        "# to generate random number list\n",
        "res = [random.randrange(1, 500, 1) for i in range(19)] ## generates a list of 10 numbers between the values of 1 and 500\n",
        " \n",
        "# printing result\n",
        "print (\"Random number list is : \" +  str(res))\n"
      ],
      "metadata": {
        "id": "MmHssy3wgwxi"
      },
      "execution_count": null,
      "outputs": []
    },
    {
      "cell_type": "code",
      "source": [
        "#15\n",
        "##Write a program to sum up three numbers from a list\n",
        "nlist = 4, 5, 7, 12, 3\n",
        "total=0 ##declares the variable total\n",
        "for x in range(3): ## only iterates x 3 times \n",
        "  total += nlist[x] ## 4+5+7 =16\n",
        "\n",
        "print(total)"
      ],
      "metadata": {
        "colab": {
          "base_uri": "https://localhost:8080/"
        },
        "id": "Qjn3fUanHa6t",
        "outputId": "d40f73ae-75d4-457a-9ebf-9effc5c4b66f"
      },
      "execution_count": 34,
      "outputs": [
        {
          "output_type": "stream",
          "name": "stdout",
          "text": [
            "16\n"
          ]
        }
      ]
    },
    {
      "cell_type": "code",
      "source": [
        ""
      ],
      "metadata": {
        "id": "E8ZB3w9Raix8"
      },
      "execution_count": null,
      "outputs": []
    }
  ]
}