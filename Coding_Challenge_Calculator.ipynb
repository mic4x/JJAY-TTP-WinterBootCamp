{
  "nbformat": 4,
  "nbformat_minor": 0,
  "metadata": {
    "colab": {
      "name": "Coding Challenge Calculator.ipynb",
      "provenance": [],
      "authorship_tag": "ABX9TyNrpPEY2xs+79OdyIji2QyJ",
      "include_colab_link": true
    },
    "kernelspec": {
      "name": "python3",
      "display_name": "Python 3"
    },
    "language_info": {
      "name": "python"
    }
  },
  "cells": [
    {
      "cell_type": "markdown",
      "metadata": {
        "id": "view-in-github",
        "colab_type": "text"
      },
      "source": [
        "<a href=\"https://colab.research.google.com/github/mic4x/JJAY-TTP-WinterBootCamp/blob/main/Coding_Challenge_Calculator.ipynb\" target=\"_parent\"><img src=\"https://colab.research.google.com/assets/colab-badge.svg\" alt=\"Open In Colab\"/></a>"
      ]
    },
    {
      "cell_type": "markdown",
      "source": [
        "#Create a calculator"
      ],
      "metadata": {
        "id": "XVLDhJVctbuf"
      }
    },
    {
      "cell_type": "code",
      "source": [
        "print('Hello, this is a calculator! Input 1 for addition, 2 for subctract, 3 for multiplicatoin, 4 for division')"
      ],
      "metadata": {
        "colab": {
          "base_uri": "https://localhost:8080/"
        },
        "id": "DTcij8UrtgKk",
        "outputId": "b6cdeb1c-089b-4551-aa0a-0b5cef1a946c"
      },
      "execution_count": 1,
      "outputs": [
        {
          "output_type": "stream",
          "name": "stdout",
          "text": [
            "Hello, this is a calculator, what operation do you want to perform\n"
          ]
        }
      ]
    },
    {
      "cell_type": "code",
      "source": [
        "operation = input('''\n",
        "Please type in the math operation you would like to complete:\n",
        "+ for addition\n",
        "- for subtraction\n",
        "* for multiplication\n",
        "/ for division\n",
        "''')\n",
        "\n",
        "number_1 = int(input('Enter your first number: '))#input from the user\n",
        "number_2 = int(input('Enter your second number: '))#second input from the user\n",
        "\n",
        "#adds if operation from user is +\n",
        "if operation == '+':\n",
        "    print('{} + {} = '.format(number_1, number_2))\n",
        "    print(number_1 + number_2)\n",
        "#subtracts if operation from user is -\n",
        "elif operation == '-':\n",
        "    print('{} - {} = '.format(number_1, number_2))\n",
        "    print(number_1 - number_2)\n",
        "#multiply if operation from user is *\n",
        "elif operation == '*':\n",
        "    print('{} * {} = '.format(number_1, number_2))\n",
        "    print(number_1 * number_2)\n",
        "#divides if operation from user is /\n",
        "elif operation == '/':\n",
        "    print('{} / {} = '.format(number_1, number_2))\n",
        "    print(number_1 / number_2)\n",
        "\n",
        "else:\n",
        "    print('You have not typed a valid operator, please run the program')\n",
        "#create the functions first (add, subtacks, devide, multiply)\n",
        "\n",
        "\n"
      ],
      "metadata": {
        "id": "lkdqME93tm4T"
      },
      "execution_count": null,
      "outputs": []
    },
    {
      "cell_type": "code",
      "source": [
        ""
      ],
      "metadata": {
        "id": "pLt1iP-Fvl-A"
      },
      "execution_count": null,
      "outputs": []
    }
  ]
}